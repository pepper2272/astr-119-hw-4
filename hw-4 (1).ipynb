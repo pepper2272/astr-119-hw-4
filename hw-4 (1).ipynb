{
 "cells": [
  {
   "cell_type": "code",
   "execution_count": null,
   "metadata": {},
   "outputs": [],
   "source": [
    "%matplotlib inline\n",
    "import numpy as np\n",
    "import matplotlib.pyplot as plt"
   ]
  },
  {
   "cell_type": "code",
   "execution_count": null,
   "metadata": {},
   "outputs": [],
   "source": [
    "def function_for_roots(x):\n",
    "    a = 1.01\n",
    "    b = -3.04\n",
    "    c = 2.07\n",
    "    return a*x**2 + b*x + c"
   ]
  },
  {
   "cell_type": "code",
   "execution_count": null,
   "metadata": {},
   "outputs": [],
   "source": [
    "def check_initial_values(f, x_min,x_max, tol):\n",
    "    y_min = f(x_min)\n",
    "    y_max = f(x_max)\n",
    "    if (y_min*y_max>=0.0):\n",
    "        print(\"No zero crossing found in the range = \", x_min,x_max)\n",
    "        s = \"f(%f) = %f, f(%f) = %f\" % (x_min, y_min, x_max, y_max)\n",
    "        print(s)\n",
    "        return 0\n",
    "    if(np.fabs(y_min)<tol):\n",
    "        return 1\n",
    "    if (np.fabs(y_max)<tol):\n",
    "        return 2\n",
    "    return 3"
   ]
  },
  {
   "cell_type": "code",
   "execution_count": null,
   "metadata": {},
   "outputs": [],
   "source": [
    "def bisection_root_finding(f, x_min_start, x_max_start,tol):\n",
    "    \n",
    "    x_min = x_min_start\n",
    "    x_max = x_max_start\n",
    "    x_mid = 0.0\n",
    "    \n",
    "    y_min = f(x_min)\n",
    "    y_max = f(x_max)\n",
    "    y_mid = 0.0\n",
    "    \n",
    "    imax = 10000\n",
    "    i = 0\n",
    "    \n",
    "    flag = check_initial_values(f,x_min, x_max, tol)\n",
    "    if (flag==0):\n",
    "        print(\"Error in bisection_root_finding().\")\n",
    "        raise ValueError('Initial values invalid' ,x_min,x_max)\n",
    "    elif(flag==1):\n",
    "        return x_min\n",
    "    elif(flag==2):\n",
    "        return x_max\n",
    "    flag = 1\n",
    "    while(flag):\n",
    "        x_mid = 0.5*(x_min + x_max)\n",
    "        y_mid = f(x_mid)\n",
    "    \n",
    "        if(np.fabs(y_mid)<tol):\n",
    "            flag = 0 \n",
    "        else:\n",
    "            if(f(x_min)*f(x_mid)>0):\n",
    "                x_min = x_mid\n",
    "            else:\n",
    "                x_max = x_mid\n",
    "            \n",
    "        print(x_min,f(x_min),x_max,f(x_max))\n",
    "        i += 1\n",
    "\n",
    "        if(i>=imax):\n",
    "            print(\"Exceeded max number of iterations = \" ,i)\n",
    "            s = \"Min bracket f(%f) = %f\" % (x_min, f(x_min))\n",
    "            print(s)\n",
    "            s = \"Max bracket f(%f) = %f\" % (x_max, f(x_max))\n",
    "            print(s)\n",
    "            s = \"Mid bracket f(%f) = %f\" % (x_mid, f(x_mid))\n",
    "            print(s)\n",
    "            raise StopIteration('Stopping iterations after' ,i)\n",
    "    return x_mid"
   ]
  },
  {
   "cell_type": "code",
   "execution_count": null,
   "metadata": {},
   "outputs": [],
   "source": [
    "x_min = 0.0\n",
    "x_max = 1.5\n",
    "tolerance = 1.0e-6\n",
    "\n",
    "print(x_min,function_for_roots(x_min))\n",
    "print(x_max,function_for_roots(x_max))\n",
    "\n",
    "x_root = bisection_root_finding(function_for_roots,x_min,x_max,tolerance)\n",
    "y_root = function_for_roots(x_root)\n",
    "\n",
    "s = \"Root found with y(%f) = %f\" % (x_root,y_root)\n",
    "print(s)"
   ]
  },
  {
   "cell_type": "markdown",
   "metadata": {},
   "source": [
    "39 Iterations to find root"
   ]
  },
  {
   "cell_type": "code",
   "execution_count": null,
   "metadata": {
    "scrolled": true
   },
   "outputs": [],
   "source": [
    "x_min = 1.5\n",
    "x_max = 3\n",
    "tolerance = 1.0e-6\n",
    "\n",
    "print(x_min,function_for_roots(x_min))\n",
    "print(x_max,function_for_roots(x_max))\n",
    "\n",
    "x_root = bisection_root_finding(function_for_roots,x_min,x_max,tolerance)\n",
    "y_root = function_for_roots(x_root)\n",
    "\n",
    "s = \"Root found with y(%f) = %f\" % (x_root,y_root)\n",
    "print(s)"
   ]
  },
  {
   "cell_type": "markdown",
   "metadata": {},
   "source": [
    "39 Iterations to find root"
   ]
  },
  {
   "cell_type": "code",
   "execution_count": null,
   "metadata": {
    "scrolled": true
   },
   "outputs": [],
   "source": [
    "x = np.linspace(-20,20, 1000)\n",
    "\n",
    "y = (1.01*x**2) - 3.04*x + 2.07\n",
    "z = (1.040869,1.040869)\n",
    "u = (1.969030,1.969030)\n",
    "t = (2.07,2.07)\n",
    "r = 1.5\n",
    "s = -0.2175000000000007\n",
    "v = (0,0)\n",
    "w = 0*x \n",
    "q = 3\n",
    "p = 2.0399999999999987\n",
    "\n",
    "\n",
    "plt.plot(x,y, label='y(x)')\n",
    "plt.plot(z,v,'.', markersize=10, label='root 1')\n",
    "plt.plot(u,v,'.', markersize=10, label='root 2')\n",
    "plt.plot(v,t,'.', markersize=10, label='x min for root 1')\n",
    "plt.plot(r,s,'.', markersize=10, label='x max for root 1 and x min for root 2')\n",
    "plt.plot(v,t,'.', markersize=10, label='x min for root 1')\n",
    "plt.plot(q,p,'.', markersize=10, label='x max for root 2')\n",
    "plt.plot(x,w, label='y=0')\n",
    "plt.xlim((0,3))\n",
    "plt.ylim((-0.5,2.1))\n",
    "plt.legend(loc=1, framealpha=0.5)"
   ]
  }
 ],
 "metadata": {
  "kernelspec": {
   "display_name": "Python 3",
   "language": "python",
   "name": "python3"
  },
  "language_info": {
   "codemirror_mode": {
    "name": "ipython",
    "version": 3
   },
   "file_extension": ".py",
   "mimetype": "text/x-python",
   "name": "python",
   "nbconvert_exporter": "python",
   "pygments_lexer": "ipython3",
   "version": "3.8.6"
  }
 },
 "nbformat": 4,
 "nbformat_minor": 4
}
